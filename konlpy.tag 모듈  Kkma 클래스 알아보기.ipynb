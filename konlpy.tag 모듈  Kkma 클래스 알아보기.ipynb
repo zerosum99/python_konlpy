{
 "cells": [
  {
   "cell_type": "code",
   "execution_count": 11,
   "metadata": {},
   "outputs": [
    {
     "name": "stdout",
     "output_type": "stream",
     "text": [
      "Hannanum\n",
      "Kkma\n",
      "Komoran\n",
      "Mecab\n",
      "Twitter\n",
      "sys\n",
      "warnings\n"
     ]
    }
   ],
   "source": [
    "import  konlpy.tag\n",
    "\n",
    "for i in dir(konlpy.tag) :\n",
    "    if not i.startswith(\"_\") :\n",
    "        print(i)"
   ]
  },
  {
   "cell_type": "markdown",
   "metadata": {},
   "source": [
    "# Kkma 클래스\n",
    "\n",
    "    Kkma는 형태소 분석기 및 자연어 처리 시스템입니다.\n",
    "    "
   ]
  },
  {
   "cell_type": "code",
   "execution_count": 6,
   "metadata": {},
   "outputs": [
    {
     "name": "stdout",
     "output_type": "stream",
     "text": [
      "morphs\n",
      "nouns\n",
      "pos\n",
      "sentences\n"
     ]
    }
   ],
   "source": [
    "from konlpy.tag import Kkma\n",
    "\n",
    "for i in dir(Kkma) :\n",
    "    if not i.startswith(\"_\") :\n",
    "        print(i)"
   ]
  },
  {
   "cell_type": "code",
   "execution_count": 9,
   "metadata": {},
   "outputs": [],
   "source": [
    "from konlpy.tag import Kkma\n",
    "kkma = Kkma()\n"
   ]
  },
  {
   "cell_type": "markdown",
   "metadata": {},
   "source": [
    "## 형태소 분석 문구."
   ]
  },
  {
   "cell_type": "code",
   "execution_count": 12,
   "metadata": {},
   "outputs": [
    {
     "name": "stdout",
     "output_type": "stream",
     "text": [
      "Help on method morphs in module konlpy.tag._kkma:\n",
      "\n",
      "morphs(phrase) method of konlpy.tag._kkma.Kkma instance\n",
      "    Parse phrase to morphemes.\n",
      "\n"
     ]
    }
   ],
   "source": [
    "help(kkma.morphs)"
   ]
  },
  {
   "cell_type": "code",
   "execution_count": 8,
   "metadata": {},
   "outputs": [
    {
     "name": "stdout",
     "output_type": "stream",
     "text": [
      "['공부', '를', '하', '면', '하', 'ㄹ수록', '모르', '는', '것', '이', '많', '다는', '것', '을', '알', '게', '되', 'ㅂ니다', '.']\n"
     ]
    }
   ],
   "source": [
    "print(kkma.morphs('공부를 하면할수록 모르는게 많다는 것을 알게 됩니다.'))"
   ]
  },
  {
   "cell_type": "markdown",
   "metadata": {},
   "source": [
    "## 명사 추출"
   ]
  },
  {
   "cell_type": "code",
   "execution_count": 13,
   "metadata": {},
   "outputs": [
    {
     "name": "stdout",
     "output_type": "stream",
     "text": [
      "Help on method nouns in module konlpy.tag._kkma:\n",
      "\n",
      "nouns(phrase) method of konlpy.tag._kkma.Kkma instance\n",
      "    Noun extractor.\n",
      "\n"
     ]
    }
   ],
   "source": [
    "help(kkma.nouns)"
   ]
  },
  {
   "cell_type": "code",
   "execution_count": 17,
   "metadata": {},
   "outputs": [
    {
     "name": "stdout",
     "output_type": "stream",
     "text": [
      "['대학', '데이터베이스', '통계학', '이산', '이산수학', '수학', '등']\n"
     ]
    }
   ],
   "source": [
    "print(kkma.nouns('대학에서 데이터베이스, 통계학, 이산수학 등을 배웠지만...'))\n",
    "\n"
   ]
  },
  {
   "cell_type": "markdown",
   "metadata": {},
   "source": [
    "## 품사에 대한 태깅"
   ]
  },
  {
   "cell_type": "code",
   "execution_count": 14,
   "metadata": {},
   "outputs": [
    {
     "name": "stdout",
     "output_type": "stream",
     "text": [
      "Help on method pos in module konlpy.tag._kkma:\n",
      "\n",
      "pos(phrase, flatten=True) method of konlpy.tag._kkma.Kkma instance\n",
      "    POS tagger.\n",
      "    \n",
      "    :param flatten: If False, preserves eojeols.\n",
      "\n"
     ]
    }
   ],
   "source": [
    "help(kkma.pos)"
   ]
  },
  {
   "cell_type": "code",
   "execution_count": 5,
   "metadata": {},
   "outputs": [
    {
     "name": "stdout",
     "output_type": "stream",
     "text": [
      "[('다', 'MAG'), ('까먹', 'VV'), ('어', 'ECD'), ('버리', 'VXV'), ('었', 'EPT'), ('네요', 'EFN'), ('?', 'SF'), ('ㅋㅋ', 'EMO')]\n"
     ]
    }
   ],
   "source": [
    "print(kkma.pos('다 까먹어버렸네요?ㅋㅋ'))"
   ]
  },
  {
   "cell_type": "markdown",
   "metadata": {},
   "source": [
    "## 문장 분리"
   ]
  },
  {
   "cell_type": "code",
   "execution_count": 15,
   "metadata": {},
   "outputs": [
    {
     "name": "stdout",
     "output_type": "stream",
     "text": [
      "Help on method sentences in module konlpy.tag._kkma:\n",
      "\n",
      "sentences(phrase) method of konlpy.tag._kkma.Kkma instance\n",
      "    Sentence detection.\n",
      "\n"
     ]
    }
   ],
   "source": [
    "help(kkma.sentences)"
   ]
  },
  {
   "cell_type": "code",
   "execution_count": 16,
   "metadata": {},
   "outputs": [
    {
     "name": "stdout",
     "output_type": "stream",
     "text": [
      "['그래도 계속 공부합니다.', '재밌으니까!']\n"
     ]
    }
   ],
   "source": [
    "print(kkma.sentences('그래도 계속 공부합니다. 재밌으니까!'))"
   ]
  },
  {
   "cell_type": "code",
   "execution_count": null,
   "metadata": {
    "collapsed": true
   },
   "outputs": [],
   "source": []
  }
 ],
 "metadata": {
  "kernelspec": {
   "display_name": "Python 3",
   "language": "python",
   "name": "python3"
  },
  "language_info": {
   "codemirror_mode": {
    "name": "ipython",
    "version": 3
   },
   "file_extension": ".py",
   "mimetype": "text/x-python",
   "name": "python",
   "nbconvert_exporter": "python",
   "pygments_lexer": "ipython3",
   "version": "3.6.1"
  }
 },
 "nbformat": 4,
 "nbformat_minor": 2
}
