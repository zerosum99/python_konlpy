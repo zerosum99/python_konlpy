{
 "cells": [
  {
   "cell_type": "markdown",
   "metadata": {},
   "source": [
    "# mecab을 사용하기 위한 파이썬 모듈"
   ]
  },
  {
   "cell_type": "markdown",
   "metadata": {},
   "source": [
    "##  mecab 및 사전 설치 : http://sens.tistory.com/445"
   ]
  },
  {
   "cell_type": "code",
   "execution_count": 6,
   "metadata": {},
   "outputs": [
    {
     "name": "stdout",
     "output_type": "stream",
     "text": [
      "Collecting mecab-python3\n",
      "  Downloading mecab-python3-0.7.tar.gz (41kB)\n",
      "\u001b[K    100% |████████████████████████████████| 51kB 602kB/s ta 0:00:01\n",
      "\u001b[?25hBuilding wheels for collected packages: mecab-python3\n",
      "  Running setup.py bdist_wheel for mecab-python3 ... \u001b[?25ldone\n",
      "\u001b[?25h  Stored in directory: /Users/dahlmoon/Library/Caches/pip/wheels/6f/0e/eb/962d0d0c1ed7e2e03b9ff2ed186ab3034053b0e970cd04005c\n",
      "Successfully built mecab-python3\n",
      "Installing collected packages: mecab-python3\n",
      "Successfully installed mecab-python3-0.7\n"
     ]
    }
   ],
   "source": [
    "!pip install mecab-python3"
   ]
  },
  {
   "cell_type": "markdown",
   "metadata": {},
   "source": [
    "# konlpy.tag 내부 모듈 확인"
   ]
  },
  {
   "cell_type": "code",
   "execution_count": 1,
   "metadata": {
    "collapsed": true
   },
   "outputs": [],
   "source": [
    "import konlpy.tag"
   ]
  },
  {
   "cell_type": "code",
   "execution_count": 2,
   "metadata": {},
   "outputs": [
    {
     "data": {
      "text/plain": [
       "['Hannanum',\n",
       " 'Kkma',\n",
       " 'Komoran',\n",
       " 'Mecab',\n",
       " 'Twitter',\n",
       " '__builtins__',\n",
       " '__cached__',\n",
       " '__doc__',\n",
       " '__file__',\n",
       " '__loader__',\n",
       " '__name__',\n",
       " '__package__',\n",
       " '__path__',\n",
       " '__spec__',\n",
       " '_hannanum',\n",
       " '_kkma',\n",
       " '_komoran',\n",
       " '_mecab',\n",
       " '_twitter',\n",
       " 'sys',\n",
       " 'warnings']"
      ]
     },
     "execution_count": 2,
     "metadata": {},
     "output_type": "execute_result"
    }
   ],
   "source": [
    "dir(konlpy.tag)"
   ]
  },
  {
   "cell_type": "code",
   "execution_count": 3,
   "metadata": {},
   "outputs": [
    {
     "data": {
      "text/plain": [
       "['__class__',\n",
       " '__delattr__',\n",
       " '__dict__',\n",
       " '__dir__',\n",
       " '__doc__',\n",
       " '__eq__',\n",
       " '__format__',\n",
       " '__ge__',\n",
       " '__getattribute__',\n",
       " '__gt__',\n",
       " '__hash__',\n",
       " '__init__',\n",
       " '__init_subclass__',\n",
       " '__le__',\n",
       " '__lt__',\n",
       " '__module__',\n",
       " '__ne__',\n",
       " '__new__',\n",
       " '__reduce__',\n",
       " '__reduce_ex__',\n",
       " '__repr__',\n",
       " '__setattr__',\n",
       " '__sizeof__',\n",
       " '__str__',\n",
       " '__subclasshook__',\n",
       " '__weakref__',\n",
       " 'morphs',\n",
       " 'nouns',\n",
       " 'pos']"
      ]
     },
     "execution_count": 3,
     "metadata": {},
     "output_type": "execute_result"
    }
   ],
   "source": [
    "dir(konlpy.tag.Mecab)"
   ]
  },
  {
   "cell_type": "code",
   "execution_count": 4,
   "metadata": {},
   "outputs": [
    {
     "name": "stdout",
     "output_type": "stream",
     "text": [
      "Help on class Mecab in module konlpy.tag._mecab:\n",
      "\n",
      "class Mecab(builtins.object)\n",
      " |  Wrapper for MeCab-ko morphological analyzer.\n",
      " |  \n",
      " |  `MeCab`_, originally a Japanese morphological analyzer and POS tagger\n",
      " |  developed by the Graduate School of Informatics in Kyoto University,\n",
      " |  was modified to MeCab-ko by the `Eunjeon Project`_\n",
      " |  to adapt to the Korean language.\n",
      " |  \n",
      " |  In order to use MeCab-ko within KoNLPy, follow the directions in\n",
      " |  :ref:`optional-installations`.\n",
      " |  \n",
      " |  .. code-block:: python\n",
      " |      :emphasize-lines: 1\n",
      " |  \n",
      " |      >>> # MeCab installation needed\n",
      " |      >>> from konlpy.tag import Mecab\n",
      " |      >>> mecab = Mecab()\n",
      " |      >>> print(mecab.morphs(u'영등포구청역에 있는 맛집 좀 알려주세요.'))\n",
      " |      ['영등포구', '청역', '에', '있', '는', '맛집', '좀', '알려', '주', '세요', '.']\n",
      " |      >>> print(mecab.nouns(u'우리나라에는 무릎 치료를 잘하는 정형외과가 없는가!'))\n",
      " |      ['우리', '나라', '무릎', '치료', '정형외과']\n",
      " |      >>> print(mecab.pos(u'자연주의 쇼핑몰은 어떤 곳인가?'))\n",
      " |      [('자연', 'NNG'), ('주', 'NNG'), ('의', 'JKG'), ('쇼핑몰', 'NNG'), ('은', 'JX'), ('어떤', 'MM'), ('곳', 'NNG'), ('인가', 'VCP+EF'), ('?', 'SF')]\n",
      " |  \n",
      " |  :param dicpath: The path of the MeCab-ko dictionary.\n",
      " |  \n",
      " |  .. _MeCab: https://code.google.com/p/mecab/\n",
      " |  .. _Eunjeon Project: http://eunjeon.blogspot.kr/\n",
      " |  \n",
      " |  Methods defined here:\n",
      " |  \n",
      " |  __init__(self, dicpath='/usr/local/lib/mecab/dic/mecab-ko-dic')\n",
      " |      Initialize self.  See help(type(self)) for accurate signature.\n",
      " |  \n",
      " |  morphs(self, phrase)\n",
      " |      Parse phrase to morphemes.\n",
      " |  \n",
      " |  nouns(self, phrase)\n",
      " |      Noun extractor.\n",
      " |  \n",
      " |  pos(self, phrase, flatten=True)\n",
      " |      POS tagger.\n",
      " |      \n",
      " |      :param flatten: If False, preserves eojeols.\n",
      " |  \n",
      " |  ----------------------------------------------------------------------\n",
      " |  Data descriptors defined here:\n",
      " |  \n",
      " |  __dict__\n",
      " |      dictionary for instance variables (if defined)\n",
      " |  \n",
      " |  __weakref__\n",
      " |      list of weak references to the object (if defined)\n",
      "\n"
     ]
    }
   ],
   "source": [
    "help(konlpy.tag.Mecab)\n"
   ]
  },
  {
   "cell_type": "code",
   "execution_count": 5,
   "metadata": {},
   "outputs": [],
   "source": [
    "from konlpy.tag import Mecab\n",
    "\n",
    "mecab = Mecab()"
   ]
  },
  {
   "cell_type": "code",
   "execution_count": 6,
   "metadata": {},
   "outputs": [
    {
     "name": "stdout",
     "output_type": "stream",
     "text": [
      "['영등포구청역', '에', '있', '는', '맛집', '좀', '알려', '주', '세요', '.']\n"
     ]
    }
   ],
   "source": [
    "print(mecab.morphs(u'영등포구청역에 있는 맛집 좀 알려주세요.'))"
   ]
  },
  {
   "cell_type": "code",
   "execution_count": 7,
   "metadata": {},
   "outputs": [
    {
     "name": "stdout",
     "output_type": "stream",
     "text": [
      "['우리', '나라', '무릎', '치료', '정형외과']\n"
     ]
    }
   ],
   "source": [
    "print(mecab.nouns(u'우리나라에는 무릎 치료를 잘하는 정형외과가 없는가!'))"
   ]
  },
  {
   "cell_type": "code",
   "execution_count": 8,
   "metadata": {},
   "outputs": [
    {
     "name": "stdout",
     "output_type": "stream",
     "text": [
      "[('자연주의', 'NNG'), ('쇼핑몰', 'NNG'), ('은', 'JX'), ('어떤', 'MM'), ('곳', 'NNG'), ('인가', 'VCP+EF'), ('?', 'SF')]\n"
     ]
    }
   ],
   "source": [
    "print(mecab.pos(u'자연주의 쇼핑몰은 어떤 곳인가?'))\n"
   ]
  },
  {
   "cell_type": "code",
   "execution_count": null,
   "metadata": {
    "collapsed": true
   },
   "outputs": [],
   "source": []
  },
  {
   "cell_type": "code",
   "execution_count": null,
   "metadata": {
    "collapsed": true
   },
   "outputs": [],
   "source": []
  }
 ],
 "metadata": {
  "kernelspec": {
   "display_name": "Python 3",
   "language": "python",
   "name": "python3"
  },
  "language_info": {
   "codemirror_mode": {
    "name": "ipython",
    "version": 3
   },
   "file_extension": ".py",
   "mimetype": "text/x-python",
   "name": "python",
   "nbconvert_exporter": "python",
   "pygments_lexer": "ipython3",
   "version": "3.6.1"
  }
 },
 "nbformat": 4,
 "nbformat_minor": 2
}
