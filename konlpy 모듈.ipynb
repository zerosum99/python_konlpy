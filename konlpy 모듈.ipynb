{
 "cells": [
  {
   "cell_type": "code",
   "execution_count": 1,
   "metadata": {
    "collapsed": true
   },
   "outputs": [],
   "source": [
    "import konlpy"
   ]
  },
  {
   "cell_type": "code",
   "execution_count": 2,
   "metadata": {},
   "outputs": [
    {
     "name": "stdout",
     "output_type": "stream",
     "text": [
      "corpus\n",
      "data\n",
      "download\n",
      "downloader\n",
      "init_jvm\n",
      "internals\n",
      "jvm\n",
      "tag\n",
      "utils\n"
     ]
    }
   ],
   "source": [
    "for i in dir(konlpy) :\n",
    "    if not i.startswith(\"_\") :\n",
    "        print(i)"
   ]
  },
  {
   "cell_type": "code",
   "execution_count": 3,
   "metadata": {},
   "outputs": [
    {
     "data": {
      "text/plain": [
       "['FORMATS',\n",
       " 'FileSystemPathPointer',\n",
       " 'PathPointer',\n",
       " '__all__',\n",
       " '__builtins__',\n",
       " '__cached__',\n",
       " '__doc__',\n",
       " '__file__',\n",
       " '__loader__',\n",
       " '__name__',\n",
       " '__package__',\n",
       " '__spec__',\n",
       " 'find',\n",
       " 'load',\n",
       " 'os',\n",
       " 'path',\n",
       " 'pickle',\n",
       " 'sys',\n",
       " 'textwrap',\n",
       " 'utils']"
      ]
     },
     "execution_count": 3,
     "metadata": {},
     "output_type": "execute_result"
    }
   ],
   "source": [
    "dir(konlpy.data)"
   ]
  },
  {
   "cell_type": "code",
   "execution_count": 5,
   "metadata": {},
   "outputs": [
    {
     "data": {
      "text/plain": [
       "['__builtins__',\n",
       " '__cached__',\n",
       " '__doc__',\n",
       " '__file__',\n",
       " '__loader__',\n",
       " '__name__',\n",
       " '__package__',\n",
       " '__spec__',\n",
       " 'char2hex',\n",
       " 'concordance',\n",
       " 'hex2char',\n",
       " 'installpath',\n",
       " 'io',\n",
       " 'json',\n",
       " 'load_txt',\n",
       " 'os',\n",
       " 'partition',\n",
       " 'pp',\n",
       " 'pprint',\n",
       " 'read_json',\n",
       " 'read_txt',\n",
       " 'replace_set',\n",
       " 'select',\n",
       " 'sys',\n",
       " 'unichr',\n",
       " 'unicode_literals']"
      ]
     },
     "execution_count": 5,
     "metadata": {},
     "output_type": "execute_result"
    }
   ],
   "source": [
    "dir(konlpy.utils)"
   ]
  },
  {
   "cell_type": "code",
   "execution_count": 6,
   "metadata": {},
   "outputs": [
    {
     "data": {
      "text/plain": [
       "['Hannanum',\n",
       " 'Kkma',\n",
       " 'Komoran',\n",
       " 'Mecab',\n",
       " 'Twitter',\n",
       " '__builtins__',\n",
       " '__cached__',\n",
       " '__doc__',\n",
       " '__file__',\n",
       " '__loader__',\n",
       " '__name__',\n",
       " '__package__',\n",
       " '__path__',\n",
       " '__spec__',\n",
       " '_hannanum',\n",
       " '_kkma',\n",
       " '_komoran',\n",
       " '_mecab',\n",
       " '_twitter',\n",
       " 'sys',\n",
       " 'warnings']"
      ]
     },
     "execution_count": 6,
     "metadata": {},
     "output_type": "execute_result"
    }
   ],
   "source": [
    "dir(konlpy.tag)"
   ]
  },
  {
   "cell_type": "code",
   "execution_count": null,
   "metadata": {
    "collapsed": true
   },
   "outputs": [],
   "source": []
  }
 ],
 "metadata": {
  "kernelspec": {
   "display_name": "Python 3",
   "language": "python",
   "name": "python3"
  },
  "language_info": {
   "codemirror_mode": {
    "name": "ipython",
    "version": 3
   },
   "file_extension": ".py",
   "mimetype": "text/x-python",
   "name": "python",
   "nbconvert_exporter": "python",
   "pygments_lexer": "ipython3",
   "version": "3.6.1"
  }
 },
 "nbformat": 4,
 "nbformat_minor": 2
}
